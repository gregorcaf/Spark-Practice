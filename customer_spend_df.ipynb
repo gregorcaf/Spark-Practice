{
 "cells": [
  {
   "cell_type": "code",
   "execution_count": 3,
   "id": "ab3144fe-1259-4e18-9385-903156ae1cdc",
   "metadata": {},
   "outputs": [],
   "source": [
    "from pyspark.sql import SparkSession, Row\n",
    "from pyspark.sql import functions as func\n",
    "from pyspark.sql.types import StructType, StructField, StringType, IntegerType, FloatType\n"
   ]
  },
  {
   "cell_type": "code",
   "execution_count": 2,
   "id": "1e781230-59f9-4ae4-bfaf-c0ac30617c1d",
   "metadata": {},
   "outputs": [
    {
     "data": {
      "text/html": [
       "\n",
       "            <div>\n",
       "                <p><b>SparkSession - in-memory</b></p>\n",
       "                \n",
       "        <div>\n",
       "            <p><b>SparkContext</b></p>\n",
       "\n",
       "            <p><a href=\"http://173eb0b10adf:4041\">Spark UI</a></p>\n",
       "\n",
       "            <dl>\n",
       "              <dt>Version</dt>\n",
       "                <dd><code>v3.3.1</code></dd>\n",
       "              <dt>Master</dt>\n",
       "                <dd><code>local[*]</code></dd>\n",
       "              <dt>AppName</dt>\n",
       "                <dd><code>CustomerSpend</code></dd>\n",
       "            </dl>\n",
       "        </div>\n",
       "        \n",
       "            </div>\n",
       "        "
      ],
      "text/plain": [
       "<pyspark.sql.session.SparkSession at 0x7f94c58ea8c0>"
      ]
     },
     "execution_count": 2,
     "metadata": {},
     "output_type": "execute_result"
    }
   ],
   "source": [
    "# SparkSession => entry to the DataFrame API\n",
    "spark = SparkSession.builder.appName(\"CustomerSpend\").getOrCreate()\n",
    "spark\n"
   ]
  },
  {
   "cell_type": "code",
   "execution_count": 6,
   "id": "1b6bf10c-7a02-432d-bb0f-c26b08797d45",
   "metadata": {},
   "outputs": [],
   "source": [
    "schema = StructType([\n",
    "    StructField(\"customer_id\", IntegerType(), True),\n",
    "    StructField(\"item_id\", IntegerType(), True),\n",
    "    StructField(\"amount\", FloatType(), True)])\n"
   ]
  },
  {
   "cell_type": "code",
   "execution_count": 7,
   "id": "a5088754-f607-4d09-8c0c-2ba3709eb46c",
   "metadata": {},
   "outputs": [
    {
     "name": "stdout",
     "output_type": "stream",
     "text": [
      "root\n",
      " |-- customer_id: integer (nullable = true)\n",
      " |-- item_id: integer (nullable = true)\n",
      " |-- amount: float (nullable = true)\n",
      "\n"
     ]
    }
   ],
   "source": [
    "df = spark.read.schema(schema).csv(\"customer-orders.csv\")\n",
    "df.printSchema()\n"
   ]
  },
  {
   "cell_type": "code",
   "execution_count": null,
   "id": "5f4fc6b8-baea-4440-8ab3-34e2fad035ba",
   "metadata": {},
   "outputs": [
    {
     "name": "stdout",
     "output_type": "stream",
     "text": [
      "+-----------+-------+------+\n",
      "|customer_id|item_id|amount|\n",
      "+-----------+-------+------+\n",
      "|         44|   8602| 37.19|\n",
      "|         35|   5368| 65.89|\n",
      "|          2|   3391| 40.64|\n",
      "|         47|   6694| 14.98|\n",
      "|         29|    680| 13.08|\n",
      "+-----------+-------+------+\n",
      "only showing top 5 rows\n",
      "\n"
     ]
    }
   ],
   "source": [
    "df.show(5)"
   ]
  },
  {
   "cell_type": "code",
   "execution_count": 13,
   "id": "296d9a44-bc33-4a68-b9c1-f5660db636ea",
   "metadata": {},
   "outputs": [
    {
     "name": "stdout",
     "output_type": "stream",
     "text": [
      "+-----------+------------------+\n",
      "|customer_id|       sum(amount)|\n",
      "+-----------+------------------+\n",
      "|         68| 6375.450028181076|\n",
      "|         73| 6206.199985742569|\n",
      "|         39| 6193.109993815422|\n",
      "|         54| 6065.390002984554|\n",
      "|         71| 5995.659991919994|\n",
      "|          2| 5994.589979887009|\n",
      "|         97| 5977.190007060766|\n",
      "|         46| 5963.110011339188|\n",
      "|         42| 5696.840004444122|\n",
      "|         59| 5642.890004396439|\n",
      "|         41| 5637.619991332293|\n",
      "|          0| 5524.950008839369|\n",
      "|          8|5517.2399980425835|\n",
      "|         85|  5503.42998456955|\n",
      "|         61| 5497.479998707771|\n",
      "|         32| 5496.049998283386|\n",
      "|         58| 5437.730004191399|\n",
      "|         63| 5415.150004655123|\n",
      "|         15| 5413.510010659695|\n",
      "|          6| 5397.880012750626|\n",
      "+-----------+------------------+\n",
      "only showing top 20 rows\n",
      "\n"
     ]
    }
   ],
   "source": [
    "df.groupBy(\"customer_id\").sum(\"amount\").orderBy(\"sum(amount)\", ascending=False).show()"
   ]
  },
  {
   "cell_type": "code",
   "execution_count": null,
   "id": "365c6ebc-7839-4844-91ca-e1d1418aa707",
   "metadata": {},
   "outputs": [],
   "source": []
  }
 ],
 "metadata": {
  "kernelspec": {
   "display_name": "Python 3 (ipykernel)",
   "language": "python",
   "name": "python3"
  },
  "language_info": {
   "codemirror_mode": {
    "name": "ipython",
    "version": 3
   },
   "file_extension": ".py",
   "mimetype": "text/x-python",
   "name": "python",
   "nbconvert_exporter": "python",
   "pygments_lexer": "ipython3",
   "version": "3.10.8"
  }
 },
 "nbformat": 4,
 "nbformat_minor": 5
}
