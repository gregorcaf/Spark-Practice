{
 "cells": [
  {
   "cell_type": "code",
   "execution_count": 1,
   "id": "90bbb58c-946b-4918-a959-58bc3e6c8871",
   "metadata": {},
   "outputs": [],
   "source": [
    "from pyspark import SparkConf, SparkContext\n",
    "import collections"
   ]
  },
  {
   "cell_type": "code",
   "execution_count": 2,
   "id": "ee524c0e-6449-4626-af7b-5e86027b178d",
   "metadata": {},
   "outputs": [
    {
     "data": {
      "text/html": [
       "\n",
       "        <div>\n",
       "            <p><b>SparkContext</b></p>\n",
       "\n",
       "            <p><a href=\"http://173eb0b10adf:4040\">Spark UI</a></p>\n",
       "\n",
       "            <dl>\n",
       "              <dt>Version</dt>\n",
       "                <dd><code>v3.3.1</code></dd>\n",
       "              <dt>Master</dt>\n",
       "                <dd><code>local</code></dd>\n",
       "              <dt>AppName</dt>\n",
       "                <dd><code>RatingsHistogram</code></dd>\n",
       "            </dl>\n",
       "        </div>\n",
       "        "
      ],
      "text/plain": [
       "<SparkContext master=local appName=RatingsHistogram>"
      ]
     },
     "execution_count": 2,
     "metadata": {},
     "output_type": "execute_result"
    }
   ],
   "source": [
    "# configures the SparkContext => local machine and not cluster, sets the app name\n",
    "conf = SparkConf().setMaster(\"local\").setAppName(\"RatingsHistogram\")\n",
    "sc = SparkContext(conf = conf)\n",
    "sc"
   ]
  },
  {
   "cell_type": "code",
   "execution_count": 3,
   "id": "62e03161-da97-47c2-a5b5-a6dfc3e12c78",
   "metadata": {},
   "outputs": [],
   "source": [
    "# load the data from filesystem, returns RDD\n",
    "lines = sc.textFile(\"ml-100k/u.data\")\n"
   ]
  },
  {
   "cell_type": "code",
   "execution_count": 4,
   "id": "6a43eaf4-de10-4f0f-a8bd-197fcb7ffac8",
   "metadata": {},
   "outputs": [],
   "source": [
    "# splits the data and takes the second column (ratings)\n",
    "ratings = lines.map(lambda x: x.split()[2])\n"
   ]
  },
  {
   "cell_type": "code",
   "execution_count": 13,
   "id": "8cda92dd-3cd2-4447-9a71-2ac4be409cf6",
   "metadata": {},
   "outputs": [
    {
     "data": {
      "text/plain": [
       "['3', '3', '1', '2', '1']"
      ]
     },
     "execution_count": 13,
     "metadata": {},
     "output_type": "execute_result"
    }
   ],
   "source": [
    "# display first 5 entries of RDD\n",
    "ratings.take(5)\n"
   ]
  },
  {
   "cell_type": "code",
   "execution_count": 15,
   "id": "9da6d908-c426-485e-b350-0e5871ea42ac",
   "metadata": {},
   "outputs": [],
   "source": [
    "# ACTION => counts how many times each unique value in RDD occurred\n",
    "results = ratings.countByValue()\n"
   ]
  },
  {
   "cell_type": "code",
   "execution_count": 16,
   "id": "4a6e5842-9d19-4c03-aa5a-eb0043c09855",
   "metadata": {},
   "outputs": [],
   "source": [
    "# sort entries\n",
    "sortedResults = collections.OrderedDict(sorted(results.items()))\n"
   ]
  },
  {
   "cell_type": "code",
   "execution_count": 17,
   "id": "0fb5380b-69a4-46d2-bfe3-f1bc3d4f8754",
   "metadata": {},
   "outputs": [
    {
     "name": "stdout",
     "output_type": "stream",
     "text": [
      "1 6110\n",
      "2 11370\n",
      "3 27145\n",
      "4 34174\n",
      "5 21201\n"
     ]
    }
   ],
   "source": [
    "# print results\n",
    "for key, value in sortedResults.items():\n",
    "    print(key, value)"
   ]
  },
  {
   "cell_type": "code",
   "execution_count": null,
   "id": "bb8e4758-f88a-4cdf-80e4-24cd9519e318",
   "metadata": {},
   "outputs": [],
   "source": []
  }
 ],
 "metadata": {
  "kernelspec": {
   "display_name": "Python 3 (ipykernel)",
   "language": "python",
   "name": "python3"
  },
  "language_info": {
   "codemirror_mode": {
    "name": "ipython",
    "version": 3
   },
   "file_extension": ".py",
   "mimetype": "text/x-python",
   "name": "python",
   "nbconvert_exporter": "python",
   "pygments_lexer": "ipython3",
   "version": "3.10.8"
  }
 },
 "nbformat": 4,
 "nbformat_minor": 5
}
