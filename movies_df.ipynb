{
 "cells": [
  {
   "cell_type": "code",
   "execution_count": 32,
   "id": "07ed2731-f11d-4db6-9b36-307bc8cf9fff",
   "metadata": {},
   "outputs": [],
   "source": [
    "from pyspark.sql import SparkSession, Row\n",
    "from pyspark.sql import functions as func\n",
    "from pyspark.sql.types import StructType, StructField, StringType, DateType\n",
    "import codecs\n"
   ]
  },
  {
   "cell_type": "code",
   "execution_count": 2,
   "id": "a00ba5af-90a0-476a-b498-61b1fdfc8502",
   "metadata": {},
   "outputs": [
    {
     "data": {
      "text/html": [
       "\n",
       "            <div>\n",
       "                <p><b>SparkSession - in-memory</b></p>\n",
       "                \n",
       "        <div>\n",
       "            <p><b>SparkContext</b></p>\n",
       "\n",
       "            <p><a href=\"http://173eb0b10adf:4042\">Spark UI</a></p>\n",
       "\n",
       "            <dl>\n",
       "              <dt>Version</dt>\n",
       "                <dd><code>v3.3.1</code></dd>\n",
       "              <dt>Master</dt>\n",
       "                <dd><code>local[*]</code></dd>\n",
       "              <dt>AppName</dt>\n",
       "                <dd><code>Movies</code></dd>\n",
       "            </dl>\n",
       "        </div>\n",
       "        \n",
       "            </div>\n",
       "        "
      ],
      "text/plain": [
       "<pyspark.sql.session.SparkSession at 0x7fde617ca950>"
      ]
     },
     "execution_count": 2,
     "metadata": {},
     "output_type": "execute_result"
    }
   ],
   "source": [
    "# SparkSession => entry to the DataFrame API\n",
    "spark = SparkSession.builder.appName(\"Movies\").getOrCreate()\n",
    "spark\n"
   ]
  },
  {
   "cell_type": "code",
   "execution_count": 35,
   "id": "51983734-3436-413a-bb94-13ce41df3e2a",
   "metadata": {},
   "outputs": [],
   "source": [
    "def data_loader():\n",
    "    movieNames = {}\n",
    "    \n",
    "    # codecs => used for encoding the data (u.item)\n",
    "    with codecs.open(\"ml-100k/u.item\", \"r\", encoding=\"ISO-8859-1\", errors=\"ignore\") as f:\n",
    "        for line in f:\n",
    "            fields = line.split(\"|\")\n",
    "            movieNames[int(fields[0])] = fields[1]\n",
    "    return movieNames\n"
   ]
  },
  {
   "cell_type": "code",
   "execution_count": 50,
   "id": "374b60df-f8b1-4240-bc0a-50ecf157eee4",
   "metadata": {},
   "outputs": [],
   "source": [
    "schema_ratings = StructType([\n",
    "    StructField(\"user_id\", IntegerType(), True),\n",
    "    StructField(\"movie_id\", IntegerType(), True),\n",
    "    StructField(\"rating\", IntegerType(), True),\n",
    "    StructField(\"timestamp\", LongType(), True)])\n"
   ]
  },
  {
   "cell_type": "code",
   "execution_count": 51,
   "id": "2eeecbcd-3c0d-4822-a9c5-b5cc00d6d676",
   "metadata": {},
   "outputs": [
    {
     "name": "stdout",
     "output_type": "stream",
     "text": [
      "root\n",
      " |-- user_id: integer (nullable = true)\n",
      " |-- movie_id: integer (nullable = true)\n",
      " |-- rating: integer (nullable = true)\n",
      " |-- timestamp: long (nullable = true)\n",
      "\n"
     ]
    }
   ],
   "source": [
    "df_ratings = spark.read.option(\"sep\", \"\\t\").schema(schema_ratings).csv(\"ml-100k/u.data\")\n",
    "df_ratings.printSchema()\n"
   ]
  },
  {
   "cell_type": "code",
   "execution_count": 59,
   "id": "49f47122-6be6-4eea-91b2-8cf12b9ba92e",
   "metadata": {},
   "outputs": [],
   "source": [
    "# we broadcast the output of data_loader() function\n",
    "movie_names_dict = spark.sparkContext.broadcast(data_loader())\n"
   ]
  },
  {
   "cell_type": "code",
   "execution_count": 60,
   "id": "6e3e442f-50ae-4076-86a2-aa07f4fb26ef",
   "metadata": {},
   "outputs": [
    {
     "name": "stdout",
     "output_type": "stream",
     "text": [
      "+--------+-----+\n",
      "|movie_id|count|\n",
      "+--------+-----+\n",
      "|      50|  583|\n",
      "|     258|  509|\n",
      "|     100|  508|\n",
      "|     181|  507|\n",
      "|     294|  485|\n",
      "+--------+-----+\n",
      "only showing top 5 rows\n",
      "\n"
     ]
    }
   ],
   "source": [
    "df_count = df_ratings.select(\"movie_id\", \"rating\").groupBy(\"movie_id\").count().orderBy(\"count\", ascending=False)\n",
    "df_count.show(5)\n"
   ]
  },
  {
   "cell_type": "code",
   "execution_count": 61,
   "id": "f112f203-7f65-4311-aada-938f03921daa",
   "metadata": {},
   "outputs": [],
   "source": [
    "# UDF that looks up movie names from our broadcaster dictionary\n",
    "def look_up_movie(movie_id):\n",
    "    return movie_names_dict.value[movie_id]\n"
   ]
  },
  {
   "cell_type": "code",
   "execution_count": 56,
   "id": "0ac80af4-6abb-42ab-8071-208362e0d48e",
   "metadata": {},
   "outputs": [],
   "source": [
    "# register the UDF\n",
    "look_up_movie_udf = func.udf(look_up_movie)\n"
   ]
  },
  {
   "cell_type": "code",
   "execution_count": 63,
   "id": "f334c86d-c7a0-4687-8efe-15b1b5146b91",
   "metadata": {},
   "outputs": [
    {
     "name": "stdout",
     "output_type": "stream",
     "text": [
      "+--------+-----+--------------------+\n",
      "|movie_id|count|         movie_title|\n",
      "+--------+-----+--------------------+\n",
      "|      50|  583|    Star Wars (1977)|\n",
      "|     258|  509|      Contact (1997)|\n",
      "|     100|  508|        Fargo (1996)|\n",
      "|     181|  507|Return of the Jed...|\n",
      "|     294|  485|    Liar Liar (1997)|\n",
      "+--------+-----+--------------------+\n",
      "only showing top 5 rows\n",
      "\n"
     ]
    }
   ],
   "source": [
    "# create new columns by calling UDF on alrwady existing columns\n",
    "df_result = df_count.withColumn(\"movie_title\", look_up_movie_udf(df_count.movie_id))\n",
    "df_result.show(5)"
   ]
  },
  {
   "cell_type": "code",
   "execution_count": null,
   "id": "bb471366-762e-4917-b8bb-acbf59962f05",
   "metadata": {},
   "outputs": [],
   "source": []
  }
 ],
 "metadata": {
  "kernelspec": {
   "display_name": "Python 3 (ipykernel)",
   "language": "python",
   "name": "python3"
  },
  "language_info": {
   "codemirror_mode": {
    "name": "ipython",
    "version": 3
   },
   "file_extension": ".py",
   "mimetype": "text/x-python",
   "name": "python",
   "nbconvert_exporter": "python",
   "pygments_lexer": "ipython3",
   "version": "3.10.8"
  }
 },
 "nbformat": 4,
 "nbformat_minor": 5
}
