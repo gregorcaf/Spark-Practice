{
 "cells": [
  {
   "cell_type": "code",
   "execution_count": 1,
   "id": "cd6ee3ec-0bd9-465b-a14f-1701b544ff25",
   "metadata": {},
   "outputs": [],
   "source": [
    "from pyspark import SparkConf, SparkContext\n"
   ]
  },
  {
   "cell_type": "code",
   "execution_count": 2,
   "id": "c167f9c6-4484-444c-ba82-524709cbecc0",
   "metadata": {},
   "outputs": [],
   "source": [
    "conf = SparkConf().setMaster(\"local\").setAppName(\"DegreesOfSeparation\")\n",
    "sc = SparkContext(conf = conf)\n"
   ]
  },
  {
   "cell_type": "code",
   "execution_count": 3,
   "id": "d4ea38d5-9a2d-44fe-beed-02b20df82b94",
   "metadata": {},
   "outputs": [],
   "source": [
    "start_id = 5306 # Spiderman\n",
    "target_id = 14 # ADAM\n"
   ]
  },
  {
   "cell_type": "code",
   "execution_count": 6,
   "id": "b0bf8558-365a-4721-affd-f769deaf66ce",
   "metadata": {},
   "outputs": [],
   "source": [
    "# set initial value of shared counter to 0\n",
    "# used to signal when we found our target character\n",
    "counter = sc.accumulator(0)\n"
   ]
  },
  {
   "cell_type": "code",
   "execution_count": 7,
   "id": "a46d39e4-7483-4fd5-8a7c-43f752323627",
   "metadata": {},
   "outputs": [],
   "source": [
    "# splits the data into BFS format\n",
    "def convert_to_bfs(line):\n",
    "    fields = line.split(\" \")\n",
    "    hero_id = fields[0]\n",
    "    connections = fields[1:]\n",
    "    color = \"WHITE\"\n",
    "    distance = 9999\n",
    "    \n",
    "    if hero_id == start_id:\n",
    "        color = \"GRAY\"\n",
    "        distance = 0\n",
    "    \n",
    "    return (hero_id, (connections, distance, color))\n"
   ]
  },
  {
   "cell_type": "code",
   "execution_count": 8,
   "id": "7e206564-390a-4477-8b96-58fcc30da945",
   "metadata": {},
   "outputs": [],
   "source": [
    "# reads input file and call convert_to_bfs() function\n",
    "def create_starting_rdd():\n",
    "    input_file = sc.textFile(\"Marvel-Graph\")\n",
    "    return input_file.map(convert_to_bfs)\n"
   ]
  },
  {
   "cell_type": "code",
   "execution_count": 11,
   "id": "a3adcaf0-f051-4ce3-adc8-7fa54e7ccdba",
   "metadata": {},
   "outputs": [],
   "source": [
    "def bfs_map(node):\n",
    "    hero_id = node[0]\n",
    "    connections = node[1][0]\n",
    "    distance = node[1][1]\n",
    "    color = node[1][2]\n",
    "    results = []\n",
    "    \n",
    "    # if the node needs to be expanded\n",
    "    if color == \"GRAY\":\n",
    "        for connection in connections:\n",
    "            new_hero_id = connection\n",
    "            new_distance = distance + 1\n",
    "            new_color = \"GRAY\"\n",
    "            \n",
    "            if target_id == connection:\n",
    "                counter.add(1)\n",
    "            \n",
    "            new_entry = (new_hero_id, ([], new_distance, new_color))\n",
    "            results.append(new_entry)\n",
    "        \n",
    "        # node has ben processed\n",
    "        color = \"BLACK\"\n",
    "    \n",
    "    # emit the input node\n",
    "    results.append((hero_id, (connections, distance, color)))\n",
    "    return results\n"
   ]
  },
  {
   "cell_type": "code",
   "execution_count": null,
   "id": "4af1c4fa-6d70-4425-8819-95780558076d",
   "metadata": {},
   "outputs": [],
   "source": []
  },
  {
   "cell_type": "code",
   "execution_count": null,
   "id": "ed8cda98-f029-48d5-8227-215c4999140c",
   "metadata": {},
   "outputs": [],
   "source": []
  },
  {
   "cell_type": "code",
   "execution_count": 9,
   "id": "50b6a4f8-77ba-4f11-bfdc-26bb83111dde",
   "metadata": {},
   "outputs": [],
   "source": [
    "rdd = create_starting_rdd()\n"
   ]
  },
  {
   "cell_type": "code",
   "execution_count": null,
   "id": "10677d20-acc3-4ec5-ba2d-88bae8292683",
   "metadata": {},
   "outputs": [],
   "source": [
    "for iteration in range(0, 10):\n",
    "    print(\"Running BFS iteration:\", iteration + 1)\n",
    "    \n",
    "    mapped = rdd.flatMap(bfs_map)\n",
    "    \n",
    "    print(\"Processing\", mapped.count(), \"values\")\n",
    "    \n",
    "    if counter.value > 0:\n",
    "        print(\"Hit the target character\")\n",
    "        break"
   ]
  },
  {
   "cell_type": "code",
   "execution_count": null,
   "id": "bf923b19-b714-4156-811f-bd614532b857",
   "metadata": {},
   "outputs": [],
   "source": []
  },
  {
   "cell_type": "code",
   "execution_count": null,
   "id": "4a273242-937b-4007-a840-2850fdec2de9",
   "metadata": {},
   "outputs": [],
   "source": []
  },
  {
   "cell_type": "code",
   "execution_count": null,
   "id": "1d103a41-4d72-494c-b647-da9f52c2dc60",
   "metadata": {},
   "outputs": [],
   "source": []
  }
 ],
 "metadata": {
  "kernelspec": {
   "display_name": "Python 3 (ipykernel)",
   "language": "python",
   "name": "python3"
  },
  "language_info": {
   "codemirror_mode": {
    "name": "ipython",
    "version": 3
   },
   "file_extension": ".py",
   "mimetype": "text/x-python",
   "name": "python",
   "nbconvert_exporter": "python",
   "pygments_lexer": "ipython3",
   "version": "3.10.8"
  }
 },
 "nbformat": 4,
 "nbformat_minor": 5
}
