{
 "cells": [
  {
   "cell_type": "code",
   "execution_count": 1,
   "id": "6e7fffd3-6737-462f-b87f-cca40c0fc055",
   "metadata": {},
   "outputs": [],
   "source": [
    "from pyspark.sql import SparkSession, Row\n"
   ]
  },
  {
   "cell_type": "code",
   "execution_count": 2,
   "id": "4b84faf8-a94b-4915-b329-fa9430087197",
   "metadata": {},
   "outputs": [
    {
     "data": {
      "text/html": [
       "\n",
       "            <div>\n",
       "                <p><b>SparkSession - in-memory</b></p>\n",
       "                \n",
       "        <div>\n",
       "            <p><b>SparkContext</b></p>\n",
       "\n",
       "            <p><a href=\"http://173eb0b10adf:4043\">Spark UI</a></p>\n",
       "\n",
       "            <dl>\n",
       "              <dt>Version</dt>\n",
       "                <dd><code>v3.3.1</code></dd>\n",
       "              <dt>Master</dt>\n",
       "                <dd><code>local[*]</code></dd>\n",
       "              <dt>AppName</dt>\n",
       "                <dd><code>SparkSQL</code></dd>\n",
       "            </dl>\n",
       "        </div>\n",
       "        \n",
       "            </div>\n",
       "        "
      ],
      "text/plain": [
       "<pyspark.sql.session.SparkSession at 0x7eff5562e920>"
      ]
     },
     "execution_count": 2,
     "metadata": {},
     "output_type": "execute_result"
    }
   ],
   "source": [
    "# SparkSession => entry to the DataFrame API\n",
    "spark = SparkSession.builder.appName(\"SparkSQL\").getOrCreate()\n",
    "spark"
   ]
  },
  {
   "cell_type": "code",
   "execution_count": 18,
   "id": "83410df7-8658-4e56-8d21-aef0a3af93c2",
   "metadata": {},
   "outputs": [],
   "source": [
    "# splits the lines and returns DataFrame\n",
    "def parser(line):\n",
    "    line = line.split(\",\")\n",
    "    return Row(ID=int(line[0]),\n",
    "               name=str(line[1]),\n",
    "               age=int(line[2]),\n",
    "               num_friends=int(line[3])\n",
    "              )\n"
   ]
  },
  {
   "cell_type": "code",
   "execution_count": 22,
   "id": "5a5bfeed-4ddd-4a67-bfd8-4696e063b1b2",
   "metadata": {},
   "outputs": [
    {
     "data": {
      "text/plain": [
       "['0,Will,33,385',\n",
       " '1,Jean-Luc,26,2',\n",
       " '2,Hugh,55,221',\n",
       " '3,Deanna,40,465',\n",
       " '4,Quark,68,21']"
      ]
     },
     "execution_count": 22,
     "metadata": {},
     "output_type": "execute_result"
    }
   ],
   "source": [
    "# read the file as RDD\n",
    "lines = spark.sparkContext.textFile(\"fakefriends.csv\")\n",
    "lines.take(5)\n"
   ]
  },
  {
   "cell_type": "code",
   "execution_count": 28,
   "id": "5de54d21-4dc1-4721-bf2a-bd9b85825615",
   "metadata": {},
   "outputs": [
    {
     "data": {
      "text/plain": [
       "[Row(ID=0, name='Will', age=33, num_friends=385),\n",
       " Row(ID=1, name='Jean-Luc', age=26, num_friends=2),\n",
       " Row(ID=2, name='Hugh', age=55, num_friends=221),\n",
       " Row(ID=3, name='Deanna', age=40, num_friends=465),\n",
       " Row(ID=4, name='Quark', age=68, num_friends=21)]"
      ]
     },
     "execution_count": 28,
     "metadata": {},
     "output_type": "execute_result"
    }
   ],
   "source": [
    "# parses input file and returns rows\n",
    "people = lines.map(parser)\n",
    "people.take(5)\n"
   ]
  },
  {
   "cell_type": "code",
   "execution_count": 31,
   "id": "6fbb4dca-b782-4648-821d-581497ba4dfe",
   "metadata": {},
   "outputs": [],
   "source": [
    "# transforms RDD into DataFrame, store it in the cache, create temp view for SQL\n",
    "df = spark.createDataFrame(people).cache()\n",
    "df.createOrReplaceTempView(\"people\")\n"
   ]
  },
  {
   "cell_type": "code",
   "execution_count": 32,
   "id": "53489d47-20d6-409f-8afe-7234eed96bc0",
   "metadata": {},
   "outputs": [],
   "source": [
    "teenagers = spark.sql(\n",
    "    \"\"\"\n",
    "        select *\n",
    "        from people\n",
    "        where age >= 13 and age <= 19\n",
    "    \"\"\")\n"
   ]
  },
  {
   "cell_type": "code",
   "execution_count": 33,
   "id": "d3f9539e-a4d4-4d41-82ab-5f1333a92d44",
   "metadata": {},
   "outputs": [
    {
     "name": "stdout",
     "output_type": "stream",
     "text": [
      "+---+-------+---+-----------+\n",
      "| ID|   name|age|num_friends|\n",
      "+---+-------+---+-----------+\n",
      "| 21|  Miles| 19|        268|\n",
      "| 52|Beverly| 19|        269|\n",
      "| 54|  Brunt| 19|          5|\n",
      "|106|Beverly| 18|        499|\n",
      "|115|  Dukat| 18|        397|\n",
      "|133|  Quark| 19|        265|\n",
      "|136|   Will| 19|        335|\n",
      "|225|   Elim| 19|        106|\n",
      "|304|   Will| 19|        404|\n",
      "|341|   Data| 18|        326|\n",
      "|366|  Keiko| 19|        119|\n",
      "|373|  Quark| 19|        272|\n",
      "|377|Beverly| 18|        418|\n",
      "|404| Kasidy| 18|         24|\n",
      "|409|    Nog| 19|        267|\n",
      "|439|   Data| 18|        417|\n",
      "|444|  Keiko| 18|        472|\n",
      "|492|  Dukat| 19|         36|\n",
      "|494| Kasidy| 18|        194|\n",
      "+---+-------+---+-----------+\n",
      "\n"
     ]
    }
   ],
   "source": [
    "teenagers.show()"
   ]
  },
  {
   "cell_type": "code",
   "execution_count": 39,
   "id": "e897d4d8-806b-4655-aea8-853fcf82f309",
   "metadata": {},
   "outputs": [
    {
     "name": "stdout",
     "output_type": "stream",
     "text": [
      "+---+-----+\n",
      "|age|count|\n",
      "+---+-----+\n",
      "| 18|    8|\n",
      "| 19|   11|\n",
      "| 20|    5|\n",
      "| 21|    8|\n",
      "| 22|    7|\n",
      "| 23|   10|\n",
      "| 24|    5|\n",
      "| 25|   11|\n",
      "| 26|   17|\n",
      "| 27|    8|\n",
      "| 28|   10|\n",
      "| 29|   12|\n",
      "| 30|   11|\n",
      "| 31|    8|\n",
      "| 32|   11|\n",
      "| 33|   12|\n",
      "| 34|    6|\n",
      "| 35|    8|\n",
      "| 36|   10|\n",
      "| 37|    9|\n",
      "+---+-----+\n",
      "only showing top 20 rows\n",
      "\n"
     ]
    }
   ],
   "source": [
    "# calculating num of people per age\n",
    "df.groupBy(\"age\").count().orderBy(\"age\").show()"
   ]
  },
  {
   "cell_type": "code",
   "execution_count": null,
   "id": "b7e2aa9f-f096-4a1e-a93e-69a966ea2b5d",
   "metadata": {},
   "outputs": [],
   "source": []
  }
 ],
 "metadata": {
  "kernelspec": {
   "display_name": "Python 3 (ipykernel)",
   "language": "python",
   "name": "python3"
  },
  "language_info": {
   "codemirror_mode": {
    "name": "ipython",
    "version": 3
   },
   "file_extension": ".py",
   "mimetype": "text/x-python",
   "name": "python",
   "nbconvert_exporter": "python",
   "pygments_lexer": "ipython3",
   "version": "3.10.8"
  }
 },
 "nbformat": 4,
 "nbformat_minor": 5
}
