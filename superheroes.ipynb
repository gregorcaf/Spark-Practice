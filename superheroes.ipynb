{
 "cells": [
  {
   "cell_type": "code",
   "execution_count": 1,
   "id": "742eadb3-034d-4ba9-9473-42afe7ae10d7",
   "metadata": {},
   "outputs": [],
   "source": [
    "from pyspark.sql import SparkSession, Row\n",
    "from pyspark.sql import functions as func\n",
    "from pyspark.sql.types import StructField, StructType, IntegerType, StringType\n"
   ]
  },
  {
   "cell_type": "code",
   "execution_count": 2,
   "id": "f2d2bbe2-692c-4aa3-b217-8eceb2164c40",
   "metadata": {},
   "outputs": [
    {
     "data": {
      "text/html": [
       "\n",
       "            <div>\n",
       "                <p><b>SparkSession - in-memory</b></p>\n",
       "                \n",
       "        <div>\n",
       "            <p><b>SparkContext</b></p>\n",
       "\n",
       "            <p><a href=\"http://173eb0b10adf:4040\">Spark UI</a></p>\n",
       "\n",
       "            <dl>\n",
       "              <dt>Version</dt>\n",
       "                <dd><code>v3.3.1</code></dd>\n",
       "              <dt>Master</dt>\n",
       "                <dd><code>local[*]</code></dd>\n",
       "              <dt>AppName</dt>\n",
       "                <dd><code>PopularSuperheroes</code></dd>\n",
       "            </dl>\n",
       "        </div>\n",
       "        \n",
       "            </div>\n",
       "        "
      ],
      "text/plain": [
       "<pyspark.sql.session.SparkSession at 0x7ffa8d040f10>"
      ]
     },
     "execution_count": 2,
     "metadata": {},
     "output_type": "execute_result"
    }
   ],
   "source": [
    "spark = SparkSession.builder.appName(\"PopularSuperheroes\").getOrCreate()\n",
    "spark\n"
   ]
  },
  {
   "cell_type": "code",
   "execution_count": 3,
   "id": "7bccd3fe-ff0f-4c2d-8950-858ec20d3661",
   "metadata": {},
   "outputs": [],
   "source": [
    "# schema for marvel names\n",
    "schema = StructType([\n",
    "    StructField(\"id\", IntegerType(), True),\n",
    "    StructField(\"name\", StringType(), True)])\n"
   ]
  },
  {
   "cell_type": "code",
   "execution_count": 4,
   "id": "f5094391-cb8b-472d-abfd-ee72a2f2cebd",
   "metadata": {},
   "outputs": [
    {
     "name": "stdout",
     "output_type": "stream",
     "text": [
      "root\n",
      " |-- id: integer (nullable = true)\n",
      " |-- name: string (nullable = true)\n",
      "\n"
     ]
    }
   ],
   "source": [
    "df_names = spark.read.schema(schema).option(\"delimiter\", \" \").csv(\"Marvel-Names\")\n",
    "df_names.printSchema()\n"
   ]
  },
  {
   "cell_type": "code",
   "execution_count": 5,
   "id": "fde0d748-fce9-4e5b-961d-4f597c7edece",
   "metadata": {},
   "outputs": [
    {
     "name": "stdout",
     "output_type": "stream",
     "text": [
      "+---+--------------------+\n",
      "| id|                name|\n",
      "+---+--------------------+\n",
      "|  1|24-HOUR MAN/EMMANUEL|\n",
      "|  2|3-D MAN/CHARLES CHAN|\n",
      "|  3|    4-D MAN/MERCURIO|\n",
      "|  4|             8-BALL/|\n",
      "|  5|                   A|\n",
      "+---+--------------------+\n",
      "only showing top 5 rows\n",
      "\n"
     ]
    }
   ],
   "source": [
    "df_names.show(5)"
   ]
  },
  {
   "cell_type": "code",
   "execution_count": 6,
   "id": "ff1a32db-0efc-44f7-afc5-965593be061f",
   "metadata": {},
   "outputs": [
    {
     "name": "stdout",
     "output_type": "stream",
     "text": [
      "+--------------------+\n",
      "|               value|\n",
      "+--------------------+\n",
      "|5988 748 1722 375...|\n",
      "|5989 4080 4264 44...|\n",
      "|5982 217 595 1194...|\n",
      "|5983 1165 3836 43...|\n",
      "|5980 2731 3712 15...|\n",
      "+--------------------+\n",
      "only showing top 5 rows\n",
      "\n"
     ]
    }
   ],
   "source": [
    "df_lines = spark.read.text(\"Marvel-Graph\")\n",
    "df_lines.show(5)\n"
   ]
  },
  {
   "cell_type": "code",
   "execution_count": 13,
   "id": "d8a75339-89e5-4df9-a9bc-5fd8ab57dddf",
   "metadata": {},
   "outputs": [],
   "source": [
    "df_connections = df_lines.withColumn(\"id\", func.split(\"value\", \" \")[0]) \\\n",
    "    .withColumn(\"connections\", func.size(func.split(\"value\", \" \")) - 1) \\\n",
    "    .groupBy(\"id\").sum(\"connections\").orderBy(\"sum(connections)\", ascending=False)"
   ]
  },
  {
   "cell_type": "code",
   "execution_count": 14,
   "id": "8639e2d7-9a25-41c1-9082-2ee91373df7c",
   "metadata": {},
   "outputs": [
    {
     "name": "stdout",
     "output_type": "stream",
     "text": [
      "+----+----------------+\n",
      "|  id|sum(connections)|\n",
      "+----+----------------+\n",
      "| 859|            1937|\n",
      "|5306|            1745|\n",
      "|2664|            1532|\n",
      "|5716|            1429|\n",
      "|6306|            1397|\n",
      "+----+----------------+\n",
      "only showing top 5 rows\n",
      "\n"
     ]
    }
   ],
   "source": [
    "df_connections.show(5)"
   ]
  },
  {
   "cell_type": "code",
   "execution_count": 22,
   "id": "c4d2fac1-4346-487d-93ea-3e54136488d8",
   "metadata": {},
   "outputs": [
    {
     "name": "stdout",
     "output_type": "stream",
     "text": [
      "+----+--------------------+-----------+\n",
      "|  id|                name|connections|\n",
      "+----+--------------------+-----------+\n",
      "| 859|     CAPTAIN AMERICA|       1937|\n",
      "|5306|SPIDER-MAN/PETER PAR|       1745|\n",
      "|2664|IRON MAN/TONY STARK |       1532|\n",
      "|5716|THING/BENJAMIN J. GR|       1429|\n",
      "|6306|    WOLVERINE/LOGAN |       1397|\n",
      "+----+--------------------+-----------+\n",
      "only showing top 5 rows\n",
      "\n"
     ]
    }
   ],
   "source": [
    "# join with df_names (superhero names)\n",
    "df_results = df_connections.join(df_names, df_connections.id == df_names.id, \"left\") \\\n",
    "    .select(df_connections.id, \"name\", func.col(\"sum(connections)\").alias(\"connections\"))\n",
    "df_results.show(5)\n"
   ]
  },
  {
   "cell_type": "code",
   "execution_count": 23,
   "id": "16ccfa05-6c2b-4ae8-af7b-1b55597f7093",
   "metadata": {},
   "outputs": [
    {
     "name": "stdout",
     "output_type": "stream",
     "text": [
      "+----+--------------------+-----------+\n",
      "|  id|                name|connections|\n",
      "+----+--------------------+-----------+\n",
      "| 467|        BERSERKER II|          1|\n",
      "| 577|              BLARE/|          1|\n",
      "|3490|MARVEL BOY II/MARTIN|          1|\n",
      "|3489|MARVEL BOY/MARTIN BU|          1|\n",
      "|2139|      GIURESCU, RADU|          1|\n",
      "|1089|       CLUMSY FOULUP|          1|\n",
      "|1841|              FENRIS|          1|\n",
      "|4517|              RANDAK|          1|\n",
      "|5028|           SHARKSKIN|          1|\n",
      "| 835|     CALLAHAN, DANNY|          1|\n",
      "|1408|         DEATHCHARGE|          1|\n",
      "|4784|                RUNE|          1|\n",
      "|4945|         SEA LEOPARD|          1|\n",
      "|4602|         RED WOLF II|          1|\n",
      "|6411|              ZANTOR|          1|\n",
      "|3014|JOHNSON, LYNDON BAIN|          1|\n",
      "|3298|          LUNATIK II|          1|\n",
      "|2911|                KULL|          1|\n",
      "|2117|GERVASE, LADY ALYSSA|          1|\n",
      "+----+--------------------+-----------+\n",
      "\n"
     ]
    }
   ],
   "source": [
    "df_results.where(df_results.connections == 1).show()"
   ]
  },
  {
   "cell_type": "code",
   "execution_count": null,
   "id": "38faedfa-82ea-48ca-b08a-19ba7778271e",
   "metadata": {},
   "outputs": [],
   "source": []
  }
 ],
 "metadata": {
  "kernelspec": {
   "display_name": "Python 3 (ipykernel)",
   "language": "python",
   "name": "python3"
  },
  "language_info": {
   "codemirror_mode": {
    "name": "ipython",
    "version": 3
   },
   "file_extension": ".py",
   "mimetype": "text/x-python",
   "name": "python",
   "nbconvert_exporter": "python",
   "pygments_lexer": "ipython3",
   "version": "3.10.8"
  }
 },
 "nbformat": 4,
 "nbformat_minor": 5
}
