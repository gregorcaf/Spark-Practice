{
 "cells": [
  {
   "cell_type": "code",
   "execution_count": 42,
   "id": "b745e370-b8bf-48f5-955a-a27ce4641e0a",
   "metadata": {},
   "outputs": [],
   "source": [
    "from pyspark import SparkConf, SparkContext\n",
    "import re"
   ]
  },
  {
   "cell_type": "code",
   "execution_count": 2,
   "id": "6a66e749-6f31-4276-bd8d-bf0c341908bc",
   "metadata": {},
   "outputs": [
    {
     "data": {
      "text/html": [
       "\n",
       "        <div>\n",
       "            <p><b>SparkContext</b></p>\n",
       "\n",
       "            <p><a href=\"http://173eb0b10adf:4041\">Spark UI</a></p>\n",
       "\n",
       "            <dl>\n",
       "              <dt>Version</dt>\n",
       "                <dd><code>v3.3.1</code></dd>\n",
       "              <dt>Master</dt>\n",
       "                <dd><code>local</code></dd>\n",
       "              <dt>AppName</dt>\n",
       "                <dd><code>WordCount</code></dd>\n",
       "            </dl>\n",
       "        </div>\n",
       "        "
      ],
      "text/plain": [
       "<SparkContext master=local appName=WordCount>"
      ]
     },
     "execution_count": 2,
     "metadata": {},
     "output_type": "execute_result"
    }
   ],
   "source": [
    "# configures the SparkContext => local machine and not cluster, sets the app name\n",
    "conf = SparkConf().setMaster(\"local\").setAppName(\"WordCount\")\n",
    "sc = SparkContext(conf = conf)\n",
    "sc\n"
   ]
  },
  {
   "cell_type": "code",
   "execution_count": 69,
   "id": "4c3204da-1c3e-4cb3-913d-567e0cf1f95c",
   "metadata": {},
   "outputs": [],
   "source": [
    "# normalize, split and make upper case\n",
    "def normalize_words(text):\n",
    "    return re.compile(r'\\W+', re.UNICODE).split(text.upper())"
   ]
  },
  {
   "cell_type": "code",
   "execution_count": 72,
   "id": "24166159-a612-421c-b017-17a75e68f186",
   "metadata": {
    "tags": []
   },
   "outputs": [
    {
     "data": {
      "text/plain": [
       "['SELF', 'EMPLOYMENT', 'BUILDING', 'AN', 'INTERNET']"
      ]
     },
     "execution_count": 72,
     "metadata": {},
     "output_type": "execute_result"
    }
   ],
   "source": [
    "rdd_clean = sc.textFile(\"Book\").flatMap(normalize_words)\n",
    "rdd_clean.take(5)\n"
   ]
  },
  {
   "cell_type": "code",
   "execution_count": 73,
   "id": "634bd41e-f2ff-4305-8be7-1ddcc491663b",
   "metadata": {},
   "outputs": [],
   "source": [
    "# convert each word to key/value par with a value of 1\n",
    "rdd_wc = rdd_clean.map(lambda x: (x, 1))\n"
   ]
  },
  {
   "cell_type": "code",
   "execution_count": 75,
   "id": "88f794dc-a0fe-4e36-ba96-4970bc6c86cd",
   "metadata": {},
   "outputs": [
    {
     "data": {
      "text/plain": [
       "[('SELF', 111),\n",
       " ('EMPLOYMENT', 75),\n",
       " ('BUILDING', 33),\n",
       " ('AN', 178),\n",
       " ('INTERNET', 26)]"
      ]
     },
     "execution_count": 75,
     "metadata": {},
     "output_type": "execute_result"
    }
   ],
   "source": [
    "# count all items with reduceByKey\n",
    "results = rdd_wc.reduceByKey(lambda x, y: x + y)\n",
    "results.take(5)\n"
   ]
  },
  {
   "cell_type": "code",
   "execution_count": 81,
   "id": "e9abac20-a2a5-4971-a09e-739d81cf09c6",
   "metadata": {},
   "outputs": [
    {
     "data": {
      "text/plain": [
       "[('YOU', 1878),\n",
       " ('TO', 1828),\n",
       " ('YOUR', 1420),\n",
       " ('THE', 1292),\n",
       " ('A', 1191),\n",
       " ('OF', 970),\n",
       " ('AND', 934),\n",
       " ('', 772),\n",
       " ('THAT', 747),\n",
       " ('IT', 649)]"
      ]
     },
     "execution_count": 81,
     "metadata": {},
     "output_type": "execute_result"
    }
   ],
   "source": [
    "# order entries by value\n",
    "ordered = results.sortBy(lambda x: x[1], ascending=False)\n",
    "ordered.take(10)\n"
   ]
  }
 ],
 "metadata": {
  "kernelspec": {
   "display_name": "Python 3 (ipykernel)",
   "language": "python",
   "name": "python3"
  },
  "language_info": {
   "codemirror_mode": {
    "name": "ipython",
    "version": 3
   },
   "file_extension": ".py",
   "mimetype": "text/x-python",
   "name": "python",
   "nbconvert_exporter": "python",
   "pygments_lexer": "ipython3",
   "version": "3.10.8"
  }
 },
 "nbformat": 4,
 "nbformat_minor": 5
}
