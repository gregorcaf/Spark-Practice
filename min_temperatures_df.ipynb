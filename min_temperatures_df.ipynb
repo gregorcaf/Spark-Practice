{
 "cells": [
  {
   "cell_type": "code",
   "execution_count": 19,
   "id": "78bef4fe-a618-4b69-95bf-fedada616111",
   "metadata": {},
   "outputs": [],
   "source": [
    "from pyspark.sql import SparkSession, Row\n",
    "from pyspark.sql import functions as func\n",
    "from pyspark.sql.types import StructType, StructField, StringType, IntegerType, FloatType\n"
   ]
  },
  {
   "cell_type": "code",
   "execution_count": 3,
   "id": "f6dd6c25-af11-4dc0-85e3-dd33543e448e",
   "metadata": {},
   "outputs": [
    {
     "data": {
      "text/html": [
       "\n",
       "            <div>\n",
       "                <p><b>SparkSession - in-memory</b></p>\n",
       "                \n",
       "        <div>\n",
       "            <p><b>SparkContext</b></p>\n",
       "\n",
       "            <p><a href=\"http://173eb0b10adf:4040\">Spark UI</a></p>\n",
       "\n",
       "            <dl>\n",
       "              <dt>Version</dt>\n",
       "                <dd><code>v3.3.1</code></dd>\n",
       "              <dt>Master</dt>\n",
       "                <dd><code>local[*]</code></dd>\n",
       "              <dt>AppName</dt>\n",
       "                <dd><code>MinTemperatures</code></dd>\n",
       "            </dl>\n",
       "        </div>\n",
       "        \n",
       "            </div>\n",
       "        "
      ],
      "text/plain": [
       "<pyspark.sql.session.SparkSession at 0x7fa688bf2380>"
      ]
     },
     "execution_count": 3,
     "metadata": {},
     "output_type": "execute_result"
    }
   ],
   "source": [
    "# SparkSession => entry to the DataFrame API\n",
    "spark = SparkSession.builder.appName(\"MinTemperatures\").getOrCreate()\n",
    "spark\n"
   ]
  },
  {
   "cell_type": "code",
   "execution_count": 24,
   "id": "61e2daae-bee0-4d5c-b367-9c7d7a0eccf5",
   "metadata": {},
   "outputs": [],
   "source": [
    "# create schema for dataset we are going to read\n",
    "schema = StructType([\n",
    "    StructField(\"id\", StringType(), True),\n",
    "    StructField(\"date\", IntegerType(), True),\n",
    "    StructField(\"min_max\", StringType(), True),\n",
    "    StructField(\"temp\", FloatType(), True)])\n"
   ]
  },
  {
   "cell_type": "code",
   "execution_count": 26,
   "id": "0d651daf-6fa0-4131-8b0f-08b8be15fb6f",
   "metadata": {},
   "outputs": [
    {
     "name": "stdout",
     "output_type": "stream",
     "text": [
      "root\n",
      " |-- id: string (nullable = true)\n",
      " |-- date: integer (nullable = true)\n",
      " |-- min_max: string (nullable = true)\n",
      " |-- temp: float (nullable = true)\n",
      "\n"
     ]
    }
   ],
   "source": [
    "df = spark.read.schema(schema).csv(\"temperatures_1800.csv\")\n",
    "df.printSchema()\n"
   ]
  },
  {
   "cell_type": "code",
   "execution_count": 27,
   "id": "4c030554-050b-4b6a-aec1-37400a3077cd",
   "metadata": {},
   "outputs": [
    {
     "name": "stdout",
     "output_type": "stream",
     "text": [
      "+-----------+--------+-------+------+------+\n",
      "|         id|    date|min_max|  temp|temp_c|\n",
      "+-----------+--------+-------+------+------+\n",
      "|ITE00100554|18000101|   TMAX| -75.0|  -7.5|\n",
      "|ITE00100554|18000101|   TMIN|-148.0| -14.8|\n",
      "|GM000010962|18000101|   PRCP|   0.0|   0.0|\n",
      "|EZE00100082|18000101|   TMAX| -86.0|  -8.6|\n",
      "|EZE00100082|18000101|   TMIN|-135.0| -13.5|\n",
      "+-----------+--------+-------+------+------+\n",
      "only showing top 5 rows\n",
      "\n"
     ]
    }
   ],
   "source": [
    "# withColumn => for creating new column\n",
    "df = df.withColumn(\"temp_c\", func.col(\"temp\") / 10)\n",
    "df.show(5)\n"
   ]
  },
  {
   "cell_type": "code",
   "execution_count": 28,
   "id": "b0c3c7da-2843-43a4-b37b-00b7731c5425",
   "metadata": {},
   "outputs": [
    {
     "name": "stdout",
     "output_type": "stream",
     "text": [
      "+-----------+-----------+\n",
      "|         id|min(temp_c)|\n",
      "+-----------+-----------+\n",
      "|ITE00100554|      -14.8|\n",
      "|EZE00100082|      -13.5|\n",
      "+-----------+-----------+\n",
      "\n"
     ]
    }
   ],
   "source": [
    "# filter only TMIN entries and aggregate by min temp\n",
    "df.where(df.min_max == \"TMIN\").groupBy(\"id\").min(\"temp_c\").show()\n"
   ]
  },
  {
   "cell_type": "code",
   "execution_count": 29,
   "id": "35980568-88ed-499d-9a55-78696c4f2109",
   "metadata": {},
   "outputs": [],
   "source": [
    "a = 0"
   ]
  },
  {
   "cell_type": "code",
   "execution_count": null,
   "id": "0263ab08-c916-498a-ad69-a6bc2770f97f",
   "metadata": {},
   "outputs": [],
   "source": []
  }
 ],
 "metadata": {
  "kernelspec": {
   "display_name": "Python 3 (ipykernel)",
   "language": "python",
   "name": "python3"
  },
  "language_info": {
   "codemirror_mode": {
    "name": "ipython",
    "version": 3
   },
   "file_extension": ".py",
   "mimetype": "text/x-python",
   "name": "python",
   "nbconvert_exporter": "python",
   "pygments_lexer": "ipython3",
   "version": "3.10.8"
  }
 },
 "nbformat": 4,
 "nbformat_minor": 5
}
