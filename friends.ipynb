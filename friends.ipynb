{
 "cells": [
  {
   "cell_type": "code",
   "execution_count": 2,
   "id": "c482ae4c-e411-41ec-b2a5-a5505b6ac949",
   "metadata": {},
   "outputs": [],
   "source": [
    "from pyspark import SparkConf, SparkContext\n",
    "import collections"
   ]
  },
  {
   "cell_type": "code",
   "execution_count": 3,
   "id": "1b129317-fd69-4968-948b-01fea011211d",
   "metadata": {},
   "outputs": [
    {
     "data": {
      "text/html": [
       "\n",
       "        <div>\n",
       "            <p><b>SparkContext</b></p>\n",
       "\n",
       "            <p><a href=\"http://173eb0b10adf:4040\">Spark UI</a></p>\n",
       "\n",
       "            <dl>\n",
       "              <dt>Version</dt>\n",
       "                <dd><code>v3.3.1</code></dd>\n",
       "              <dt>Master</dt>\n",
       "                <dd><code>local</code></dd>\n",
       "              <dt>AppName</dt>\n",
       "                <dd><code>FriendsAge</code></dd>\n",
       "            </dl>\n",
       "        </div>\n",
       "        "
      ],
      "text/plain": [
       "<SparkContext master=local appName=FriendsAge>"
      ]
     },
     "execution_count": 3,
     "metadata": {},
     "output_type": "execute_result"
    }
   ],
   "source": [
    "# configures the SparkContext => local machine and not cluster, sets the app name\n",
    "conf = SparkConf().setMaster(\"local\").setAppName(\"FriendsAge\")\n",
    "sc = SparkContext(conf = conf)\n",
    "sc"
   ]
  },
  {
   "cell_type": "code",
   "execution_count": 4,
   "id": "7bfd7a78-29a1-46d7-8d1e-2e04a2d9b8de",
   "metadata": {},
   "outputs": [],
   "source": [
    "# function that parses age, num of friends and returns the tuple (age, num of friends)\n",
    "def parse_line(line):\n",
    "    fields = line.split(\",\")\n",
    "    age = int(fields[2])\n",
    "    num_friends = int(fields[3])\n",
    "    return (age, num_friends)\n"
   ]
  },
  {
   "cell_type": "code",
   "execution_count": 5,
   "id": "9b008897-3188-4449-bbb2-a9a22c213fd3",
   "metadata": {},
   "outputs": [],
   "source": [
    "# create RDD\n",
    "lines = sc.textFile(\"fakefriends.csv\")\n"
   ]
  },
  {
   "cell_type": "code",
   "execution_count": 6,
   "id": "10209a2e-88ba-4458-b7ff-5ade4829d05e",
   "metadata": {},
   "outputs": [],
   "source": [
    "# map RDD by calling a parsing function\n",
    "rdd = lines.map(parse_line)\n"
   ]
  },
  {
   "cell_type": "code",
   "execution_count": 9,
   "id": "09ef73ad-0c5b-436e-a2f2-907794b3b7e5",
   "metadata": {},
   "outputs": [
    {
     "data": {
      "text/plain": [
       "500"
      ]
     },
     "execution_count": 9,
     "metadata": {},
     "output_type": "execute_result"
    }
   ],
   "source": [
    "rdd.count()"
   ]
  },
  {
   "cell_type": "code",
   "execution_count": 8,
   "id": "797850df-0cf6-46aa-a621-12b377675885",
   "metadata": {},
   "outputs": [
    {
     "data": {
      "text/plain": [
       "[(33, 385), (26, 2), (55, 221), (40, 465), (68, 21)]"
      ]
     },
     "execution_count": 8,
     "metadata": {},
     "output_type": "execute_result"
    }
   ],
   "source": [
    "rdd.take(5)\n"
   ]
  },
  {
   "cell_type": "code",
   "execution_count": 10,
   "id": "4f379f1e-f3b7-45cb-8b18-9829e812a082",
   "metadata": {},
   "outputs": [
    {
     "data": {
      "text/plain": [
       "[(33, (385, 1)), (26, (2, 1)), (55, (221, 1)), (40, (465, 1)), (68, (21, 1))]"
      ]
     },
     "execution_count": 10,
     "metadata": {},
     "output_type": "execute_result"
    }
   ],
   "source": [
    "# map age and (num of friends, occurrences of age)\n",
    "totals_by_age = rdd.mapValues(lambda x: (x, 1))\n",
    "totals_by_age.take(5)\n"
   ]
  },
  {
   "cell_type": "code",
   "execution_count": 11,
   "id": "87688dc2-c8c2-49fc-8f8e-54718c10cfc7",
   "metadata": {},
   "outputs": [
    {
     "data": {
      "text/plain": [
       "[(33, (3904, 12)),\n",
       " (26, (4115, 17)),\n",
       " (55, (3842, 13)),\n",
       " (40, (4264, 17)),\n",
       " (68, (2696, 10))]"
      ]
     },
     "execution_count": 11,
     "metadata": {},
     "output_type": "execute_result"
    }
   ],
   "source": [
    "# reduce by key (age) and sum both elements of tuple in value\n",
    "# x and y refers to values in several entries\n",
    "totals_by_age_reduce = totals_by_age.reduceByKey(lambda x, y: (x[0] + y[0], x[1] + y[1]))\n",
    "totals_by_age_reduce.take(5)\n"
   ]
  },
  {
   "cell_type": "code",
   "execution_count": 14,
   "id": "a018afe2-54e2-45f5-88da-0304762d4892",
   "metadata": {},
   "outputs": [
    {
     "data": {
      "text/plain": [
       "[(18, 343),\n",
       " (19, 213),\n",
       " (20, 165),\n",
       " (21, 350),\n",
       " (22, 206),\n",
       " (23, 246),\n",
       " (24, 233),\n",
       " (25, 197),\n",
       " (26, 242),\n",
       " (27, 228),\n",
       " (28, 209),\n",
       " (29, 215),\n",
       " (30, 235),\n",
       " (31, 267),\n",
       " (32, 207),\n",
       " (33, 325),\n",
       " (34, 245),\n",
       " (35, 211),\n",
       " (36, 246),\n",
       " (37, 249),\n",
       " (38, 193),\n",
       " (39, 169),\n",
       " (40, 250),\n",
       " (41, 268),\n",
       " (42, 303),\n",
       " (43, 230),\n",
       " (44, 282),\n",
       " (45, 309),\n",
       " (46, 223),\n",
       " (47, 233),\n",
       " (48, 281),\n",
       " (49, 184),\n",
       " (50, 254),\n",
       " (51, 302),\n",
       " (52, 340),\n",
       " (53, 222),\n",
       " (54, 278),\n",
       " (55, 295),\n",
       " (56, 306),\n",
       " (57, 258),\n",
       " (58, 116),\n",
       " (59, 220),\n",
       " (60, 202),\n",
       " (61, 256),\n",
       " (62, 220),\n",
       " (63, 384),\n",
       " (64, 281),\n",
       " (65, 298),\n",
       " (66, 276),\n",
       " (67, 214),\n",
       " (68, 269),\n",
       " (69, 235)]"
      ]
     },
     "execution_count": 14,
     "metadata": {},
     "output_type": "execute_result"
    }
   ],
   "source": [
    "# calculating average number of friends per age\n",
    "averages_by_age = totals_by_age_reduce.mapValues(lambda x: int(x[0] / x[1])).sortByKey()\n",
    "averages_by_age.collect()\n"
   ]
  },
  {
   "cell_type": "code",
   "execution_count": null,
   "id": "efdf774d-7ebb-4ba5-a583-87a427c7d895",
   "metadata": {},
   "outputs": [],
   "source": []
  }
 ],
 "metadata": {
  "kernelspec": {
   "display_name": "Python 3 (ipykernel)",
   "language": "python",
   "name": "python3"
  },
  "language_info": {
   "codemirror_mode": {
    "name": "ipython",
    "version": 3
   },
   "file_extension": ".py",
   "mimetype": "text/x-python",
   "name": "python",
   "nbconvert_exporter": "python",
   "pygments_lexer": "ipython3",
   "version": "3.10.8"
  }
 },
 "nbformat": 4,
 "nbformat_minor": 5
}
