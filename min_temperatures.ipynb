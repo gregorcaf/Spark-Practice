{
 "cells": [
  {
   "cell_type": "code",
   "execution_count": 1,
   "id": "332c580c-4738-4cbb-a35d-e6dbaad33a98",
   "metadata": {},
   "outputs": [],
   "source": [
    "from pyspark import SparkConf, SparkContext\n",
    "import collections"
   ]
  },
  {
   "cell_type": "code",
   "execution_count": 2,
   "id": "cfef1698-b773-4178-954b-cdba0b3bf158",
   "metadata": {},
   "outputs": [
    {
     "data": {
      "text/html": [
       "\n",
       "        <div>\n",
       "            <p><b>SparkContext</b></p>\n",
       "\n",
       "            <p><a href=\"http://173eb0b10adf:4040\">Spark UI</a></p>\n",
       "\n",
       "            <dl>\n",
       "              <dt>Version</dt>\n",
       "                <dd><code>v3.3.1</code></dd>\n",
       "              <dt>Master</dt>\n",
       "                <dd><code>local</code></dd>\n",
       "              <dt>AppName</dt>\n",
       "                <dd><code>MinTemperatures</code></dd>\n",
       "            </dl>\n",
       "        </div>\n",
       "        "
      ],
      "text/plain": [
       "<SparkContext master=local appName=MinTemperatures>"
      ]
     },
     "execution_count": 2,
     "metadata": {},
     "output_type": "execute_result"
    }
   ],
   "source": [
    "# configures the SparkContext => local machine and not cluster, sets the app name\n",
    "conf = SparkConf().setMaster(\"local\").setAppName(\"MinTemperatures\")\n",
    "sc = SparkContext(conf = conf)\n",
    "sc"
   ]
  },
  {
   "cell_type": "code",
   "execution_count": 3,
   "id": "b0519d92-61f9-4b7d-92ac-31ef140267cd",
   "metadata": {},
   "outputs": [],
   "source": [
    "def parser(line):\n",
    "    line = line.split(\",\")\n",
    "    location = line[0]\n",
    "    date = line[1]\n",
    "    temp = int(line[3])\n",
    "    return (location, (date, temp))\n"
   ]
  },
  {
   "cell_type": "code",
   "execution_count": 5,
   "id": "55fc1cf4-9ab5-4de4-9c32-d84d144fd588",
   "metadata": {},
   "outputs": [
    {
     "data": {
      "text/plain": [
       "[('ITE00100554', ('18000101', -75)),\n",
       " ('EZE00100082', ('18000101', -86)),\n",
       " ('ITE00100554', ('18000102', -60)),\n",
       " ('EZE00100082', ('18000102', -44)),\n",
       " ('ITE00100554', ('18000103', -23))]"
      ]
     },
     "execution_count": 5,
     "metadata": {},
     "output_type": "execute_result"
    }
   ],
   "source": [
    "# filters by TMIN (min temperature) and parses the file\n",
    "rdd = sc.textFile(\"temperatures_1800.csv\").filter(lambda x: \"TMAX\" in x).map(parser)\n",
    "rdd.take(5)\n"
   ]
  },
  {
   "cell_type": "code",
   "execution_count": 6,
   "id": "02a9e8d4-c22f-4b3e-9da3-5e214a31e1da",
   "metadata": {},
   "outputs": [
    {
     "data": {
      "text/plain": [
       "[('ITE00100554', ('18000819', 323)), ('EZE00100082', ('18000818', 323))]"
      ]
     },
     "execution_count": 6,
     "metadata": {},
     "output_type": "execute_result"
    }
   ],
   "source": [
    "# reduce by key (location) and returns lowest temperature\n",
    "rdd_min = rdd.reduceByKey(lambda x, y: (y[0] if x[1] < y[1] else x[0], max(x[1], y[1])))\n",
    "rdd_min.collect()\n"
   ]
  },
  {
   "cell_type": "code",
   "execution_count": 7,
   "id": "5b0bdec6-22af-41bf-81ed-6318f939bd0a",
   "metadata": {},
   "outputs": [
    {
     "name": "stdout",
     "output_type": "stream",
     "text": [
      "ITE00100554 323\n",
      "EZE00100082 323\n"
     ]
    }
   ],
   "source": [
    "for results in rdd_min.collect():\n",
    "    print(results[0], results[1][1])\n",
    "    "
   ]
  },
  {
   "cell_type": "code",
   "execution_count": null,
   "id": "9ec9e2f9-aa3c-4277-9371-d0c59d3d5ef5",
   "metadata": {},
   "outputs": [],
   "source": []
  }
 ],
 "metadata": {
  "kernelspec": {
   "display_name": "Python 3 (ipykernel)",
   "language": "python",
   "name": "python3"
  },
  "language_info": {
   "codemirror_mode": {
    "name": "ipython",
    "version": 3
   },
   "file_extension": ".py",
   "mimetype": "text/x-python",
   "name": "python",
   "nbconvert_exporter": "python",
   "pygments_lexer": "ipython3",
   "version": "3.10.8"
  }
 },
 "nbformat": 4,
 "nbformat_minor": 5
}
